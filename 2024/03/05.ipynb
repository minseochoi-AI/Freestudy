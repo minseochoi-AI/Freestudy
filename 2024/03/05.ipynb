{
  "nbformat": 4,
  "nbformat_minor": 0,
  "metadata": {
    "colab": {
      "provenance": [],
      "authorship_tag": "ABX9TyMJBjVR3jn5LmHRMrSPTp1H",
      "include_colab_link": true
    },
    "kernelspec": {
      "name": "python3",
      "display_name": "Python 3"
    },
    "language_info": {
      "name": "python"
    }
  },
  "cells": [
    {
      "cell_type": "markdown",
      "metadata": {
        "id": "view-in-github",
        "colab_type": "text"
      },
      "source": [
        "<a href=\"https://colab.research.google.com/github/minseochoi-AI/Freestudy/blob/main/2024/03/05.ipynb\" target=\"_parent\"><img src=\"https://colab.research.google.com/assets/colab-badge.svg\" alt=\"Open In Colab\"/></a>"
      ]
    },
    {
      "cell_type": "markdown",
      "source": [],
      "metadata": {
        "id": "ldroQbCkx6AG"
      }
    },
    {
      "cell_type": "code",
      "source": [
        "\n",
        "#라이브러리 불러오는 과정.\n",
        "\n",
        "import pandas as pd\n",
        "import numpy as np\n",
        "\n",
        "#pandas 시리즈와 데이터 프레임 생성을 위한 도구.\n",
        "#numpy 숫자와 관련된 정보를 처리하기 위한 도구."
      ],
      "metadata": {
        "id": "4yE7y0uDzNnm"
      },
      "execution_count": null,
      "outputs": []
    },
    {
      "cell_type": "code",
      "source": [
        "\n",
        "import matplotlib.pyplot as plt\n",
        "import seaborn as sns\n",
        "\n",
        "#matplotlib = 그래프 및 시각화 도구.\n",
        "#seborn 맷를롯립의 심화 도구. 고수준인터페이스, 복잡한 시각화 기능\n",
        "\n",
        "sns.set_style(\"whitegrid\")\n",
        "%matplotlib inline\n",
        "\n",
        "#맷플롯립의 스타일 지정. 나중에 더 심화해 알아보자.\n",
        "#그래프 출력용 명령어.\n"
      ],
      "metadata": {
        "id": "DyFLJ70IzNnm"
      },
      "execution_count": null,
      "outputs": []
    },
    {
      "cell_type": "code",
      "source": [
        "from sklearn.linear_model import LogisticRegression\n",
        "\n",
        "# sklearn 라이브러리의 linear_model 모듈에서 LogisticRegression 클래스를 임포트\n",
        "\n",
        "from sklearn.svm import SVC, LinearSVC\n",
        "\n",
        "#Support Vector Machine(SVM) 알고리즘을 이용한 분류 모델을 구현한 클래스\n",
        "#LinearSVC는 SVC와 유사하지만, 커널 트릭을 사용하지 않는 선형 SVM을 구현한 클래스.\n",
        "#SVM은 분류나 회귀 문제를 해결에 사용\n",
        "\n",
        "from sklearn.ensemble import RandomForestClassifier\n",
        "\n",
        "#RandomForestClassifier는 랜덤 포레스트 분류 모델을 구현한 클래스.\n",
        "\n",
        "from sklearn.neighbors import KNeighborsClassifier\n",
        "\n",
        "#sklearn 라이브러리의 neighbors 모듈에서 KNeighborsClassifier 클래스를 임포트합니다.\n",
        "#KNeighborsClassifier는 K-최근접 이웃(K-Nearest Neighbors, K-NN) 분류 모델\n",
        "#K-NN은 새로운 데이터의 클래스를 가장 가까운 훈련 데이터의 클래스로 예측"
      ],
      "metadata": {
        "id": "F5LX7od5zNnm"
      },
      "execution_count": null,
      "outputs": []
    },
    {
      "cell_type": "code",
      "source": [
        "#만들어진 모델의 성능을 확인하기 위해 데이터를 test와 train으로 분류한다.\n",
        "\n",
        "train_df=pd.read_csv(\"C:\\Users\\alsdn\\OneDrive\\바탕 화면\\titanic\\train.csv\")\n",
        "test_df=pd.read_csv(\"C:\\Users\\alsdn\\OneDrive\\바탕 화면\\titanic\\test.csv\")\n"
      ],
      "metadata": {
        "colab": {
          "base_uri": "https://localhost:8080/",
          "height": 111
        },
        "id": "3yR7hmqsnMMD",
        "outputId": "7e171654-6b57-4433-8030-f63bceb1d586"
      },
      "execution_count": 17,
      "outputs": [
        {
          "output_type": "error",
          "ename": "SyntaxError",
          "evalue": "(unicode error) 'unicodeescape' codec can't decode bytes in position 2-3: truncated \\UXXXXXXXX escape (<ipython-input-17-8c7fe80028b7>, line 3)",
          "traceback": [
            "\u001b[0;36m  File \u001b[0;32m\"<ipython-input-17-8c7fe80028b7>\"\u001b[0;36m, line \u001b[0;32m3\u001b[0m\n\u001b[0;31m    train_df=pd.read_csv(\"C:\\Users\\alsdn\\OneDrive\\바탕 화면\\titanic\\train.csv\")\u001b[0m\n\u001b[0m                                                                          ^\u001b[0m\n\u001b[0;31mSyntaxError\u001b[0m\u001b[0;31m:\u001b[0m (unicode error) 'unicodeescape' codec can't decode bytes in position 2-3: truncated \\UXXXXXXXX escape\n"
          ]
        }
      ]
    },
    {
      "cell_type": "code",
      "source": [],
      "metadata": {
        "id": "LWE3CPu0z8VU"
      },
      "execution_count": null,
      "outputs": []
    }
  ]
}